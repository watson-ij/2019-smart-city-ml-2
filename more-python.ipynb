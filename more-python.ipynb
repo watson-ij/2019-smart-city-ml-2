{
 "cells": [
  {
   "cell_type": "markdown",
   "metadata": {},
   "source": [
    "## Housekeeping\n",
    "\n"
   ]
  },
  {
   "cell_type": "markdown",
   "metadata": {},
   "source": [
    "-   Today, we'll review python, but some housekeeping first\n",
    "-   Further issues with Thursdays\n",
    "    -   Oct. 26 will move to Mon., Oct 21 1-4 pm\n",
    "    -   If you can't make it, try to do the exercises at home, I won't\n",
    "        mark you absent (but will mark you down if you don't complete the\n",
    "        exercises!)\n",
    "-   Find the classroom link at  [https://git.io/ml2019-2](https://git.io/ml2019-2)\n",
    "    -   Complete all the tasks by the end of class and **remember to upload to github**\n",
    "    -   Ask if you need help\n",
    "-   Remember to log out!\n",
    "\n"
   ]
  },
  {
   "cell_type": "markdown",
   "metadata": {},
   "source": [
    "## Further Resources\n",
    "\n"
   ]
  },
  {
   "cell_type": "markdown",
   "metadata": {},
   "source": [
    "-   Some resources to help your programming skills (free to read online):\n",
    "    -   Think like a computer scientist <span class=\"underline\">[http://openbookproject.net/thinkcs/python/english3e/](http://openbookproject.net/thinkcs/python/english3e/)</span>\n",
    "        -   Gives a very good and slow overview of how to program\n",
    "    -   Automate the Boring Stuff with Python: <span class=\"underline\">[https://automatetheboringstuff.com/](https://automatetheboringstuff.com/)</span>\n",
    "        -   Gives very practical and usable examples of how programming can\n",
    "            help you with everyday tasks\n",
    "        -   Particularly for researches, there are lots of places where a\n",
    "            simple script can turn days of drudge work into a minute running\n",
    "            a script\n",
    "-   For those who want/need homework, run through the exercises in\n",
    "    these books and find a place in your current workflow that can be\n",
    "    improved with programming\n",
    "\n"
   ]
  },
  {
   "cell_type": "markdown",
   "metadata": {},
   "source": [
    "## Lists reminder\n",
    "\n"
   ]
  },
  {
   "cell_type": "markdown",
   "metadata": {},
   "source": [
    "-   We can also have composite data types, that is, a type that holds other types\n",
    "-   A list holds several objects in a single data structure\n",
    "    -   So, the empty list (list with no objects) is `[]`\n",
    "-   Use square brackets with objects separated by lists\n",
    "\n"
   ]
  },
  {
   "cell_type": "code",
   "execution_count": 1,
   "metadata": {},
   "outputs": [],
   "source": [
    "lst = [1, 2, 3, 4]\n",
    "print(\"Length {}\".format(len(lst))) # len Gives the length of list lst\n",
    "print(lst[0])"
   ]
  },
  {
   "cell_type": "markdown",
   "metadata": {},
   "source": [
    "-   Individual objects can be accessed using square brackets and an\n",
    "    *index*, starting at 0, and going to `len(list)-1`\n",
    "-   You can grow a list with `append`, it will grow in place\n",
    "\n"
   ]
  },
  {
   "cell_type": "code",
   "execution_count": 1,
   "metadata": {},
   "outputs": [],
   "source": [
    "lst = [1, 2, 3, 4]\n",
    "lst.append(5) # Now lst is [1, 2, 3, 4, 5]\n",
    "lst[3] = 2 # Can reassign, now lst is [1, 2, 3, 3, 5]\n",
    "lst[4] # would fail before the append statement"
   ]
  },
  {
   "cell_type": "markdown",
   "metadata": {},
   "source": [
    "-   You can `+` lists together to *concatenate* them\n",
    "\n"
   ]
  },
  {
   "cell_type": "code",
   "execution_count": 1,
   "metadata": {},
   "outputs": [],
   "source": [
    "lst1 = [1, 2, 3]\n",
    "lst2 = [4, 5, 6]\n",
    "lst1+lst2"
   ]
  },
  {
   "cell_type": "markdown",
   "metadata": {},
   "source": [
    "-   You can check if an element appears in a list using `in`, similar to strings\n",
    "\n"
   ]
  },
  {
   "cell_type": "code",
   "execution_count": 1,
   "metadata": {},
   "outputs": [],
   "source": [
    "1 in [1, 2, 3] # True\n",
    "4 in [1, 2, 3] # False"
   ]
  },
  {
   "cell_type": "markdown",
   "metadata": {},
   "source": [
    "## Lists and looping\n",
    "\n"
   ]
  },
  {
   "cell_type": "markdown",
   "metadata": {},
   "source": [
    "-   To loop over a list, we can use `for`\n",
    "-   `for a in l:`\n",
    "    -   `l` should be a list, then `a` is a new variable, which gets\n",
    "        replaced with each list element in turn\n",
    "\n"
   ]
  },
  {
   "cell_type": "code",
   "execution_count": 1,
   "metadata": {},
   "outputs": [],
   "source": [
    "for a in [1, 2, 3, 4]:\n",
    "   print(str(a))"
   ]
  },
  {
   "cell_type": "markdown",
   "metadata": {},
   "source": [
    "-   prints \"1\", then \"2\", then \"3\", then \"4\"\n",
    "\n",
    "-   At the end, `a` will be filled with 4, but really, we shouldn't use\n",
    "    list variables after the loop, this is a side-effect of python's\n",
    "    *scoping rules* [some technical info. follows]:\n",
    "    -   *variable scope* refers to where a variable is allowed to be used,\n",
    "        and where it gets destroyed. Python has *function scope*, that\n",
    "        means variables are defined and exist for the extent of the\n",
    "        function\n",
    "    -   In other languages, the loop variable would go *out of scope* at\n",
    "        the end of the loop, this is part of *lexical scope*, where blocks\n",
    "        define variable *lifetime*\n",
    "\n"
   ]
  },
  {
   "cell_type": "markdown",
   "metadata": {},
   "source": [
    "## Range\n",
    "\n"
   ]
  },
  {
   "cell_type": "markdown",
   "metadata": {},
   "source": [
    "-   We often want to get an index `i` to go from 0, 1, 2, 3, etc. giving n numbers out: `[0, 1, 2, 3, ..., n-1]`\n",
    "-   We can use the function `range` to do this:\n",
    "\n"
   ]
  },
  {
   "cell_type": "code",
   "execution_count": 1,
   "metadata": {},
   "outputs": [
    {
     "name": "stdout",
     "output_type": "stream",
     "text": [
      "[0, 1, 2, 3, 4, 5, 6, 7, 8, 9]"
     ]
    }
   ],
   "source": [
    "l = []\n",
    "for i in range(10):\n",
    "   l.append(i)"
   ]
  },
  {
   "cell_type": "markdown",
   "metadata": {},
   "source": [
    "-   `range` can also start at a different number\n",
    "    -   `range(a, b)` will go from `a` to `b-1`\n",
    "\n"
   ]
  },
  {
   "cell_type": "code",
   "execution_count": 1,
   "metadata": {},
   "outputs": [
    {
     "name": "stdout",
     "output_type": "stream",
     "text": [
      "[3, 4, 5, 6, 7, 8, 9]"
     ]
    }
   ],
   "source": [
    "l = []\n",
    "for i in range(3, 10):\n",
    "   l.append(i)"
   ]
  },
  {
   "cell_type": "markdown",
   "metadata": {},
   "source": [
    "## Range, continued\n",
    "\n"
   ]
  },
  {
   "cell_type": "markdown",
   "metadata": {},
   "source": [
    "-   Finally, we don't have to increment by 1\n",
    "    -   In `range(a, b, c)` the list ends when the next item would be equal to b or more\n",
    "\n"
   ]
  },
  {
   "cell_type": "code",
   "execution_count": 1,
   "metadata": {},
   "outputs": [
    {
     "name": "stdout",
     "output_type": "stream",
     "text": [
      "[3, 5, 7, 9]"
     ]
    }
   ],
   "source": [
    "l = []\n",
    "for i in range(3, 10, 2):\n",
    "    l.append(i)"
   ]
  },
  {
   "cell_type": "markdown",
   "metadata": {},
   "source": [
    "-   We can use this when we want to skip through lists, taking every nth element, for instance\n",
    "\n"
   ]
  },
  {
   "cell_type": "markdown",
   "metadata": {},
   "source": [
    "## Ranges and list\n",
    "\n"
   ]
  },
  {
   "cell_type": "markdown",
   "metadata": {},
   "source": [
    "-   If theres some reason not use a simple for loop (for example we need\n",
    "    to process two lists of the same length, or we want to change the\n",
    "    list) we can use ranges to loop over lists\n",
    "\n"
   ]
  },
  {
   "cell_type": "code",
   "execution_count": 1,
   "metadata": {},
   "outputs": [],
   "source": [
    "l = [1, 2, 3, 4]\n",
    "for i in range(len(l)):  # i is an \"index\" to the list\n",
    "    l[i] += 1 # add one to each element of the list"
   ]
  },
  {
   "cell_type": "code",
   "execution_count": 1,
   "metadata": {},
   "outputs": [],
   "source": [
    "l1 = [1,2,3,4]\n",
    "l2 = [3,4,5,6]\n",
    "for i in range(len(l1)):\n",
    "  # Now can you use elements of both lists\n",
    "  print(\"{} {}\".format(l1[i], l2[i]))"
   ]
  },
  {
   "cell_type": "markdown",
   "metadata": {},
   "source": [
    "-   In this case we could also use `zip(a, b)`, look up `help(zip)` if\n",
    "    you are interested\n",
    "\n"
   ]
  },
  {
   "cell_type": "markdown",
   "metadata": {},
   "source": [
    "## enumerate\n",
    "\n"
   ]
  },
  {
   "cell_type": "markdown",
   "metadata": {},
   "source": [
    "-   The code on the last page is fine, but its more pythonic to use `enumerate` for this\n",
    "\n"
   ]
  },
  {
   "cell_type": "code",
   "execution_count": 1,
   "metadata": {},
   "outputs": [],
   "source": [
    "l = [1,2,3,4]\n",
    "for i, el in enumerate(l):\n",
    "    l[i] = el + 1"
   ]
  },
  {
   "cell_type": "markdown",
   "metadata": {},
   "source": [
    "-   `enumerate` gives us two outputs for every element: the index (here\n",
    "    `i`), and the element itself (here `el`)\n",
    "-   There are many ways to accomplish the same task!\n",
    "-   Pick a way that makes sense to you and use that\n",
    "-   Be aware of alternate approaches, if you find yourself writing too\n",
    "    much code, there's probably a simpler way to do it!\n",
    "\n"
   ]
  },
  {
   "cell_type": "markdown",
   "metadata": {},
   "source": [
    "## Functions\n",
    "\n"
   ]
  },
  {
   "cell_type": "markdown",
   "metadata": {},
   "source": [
    "-   We've been using lots of functions, like `len`, or `format`\n",
    "-   You pass the function *arguments* to be used inside the function\n",
    "    -   `len(lst)`, `math.log(10, 2)`\n",
    "-   You define with `def`, you need to name it, and give a *parameter list*\n",
    "    -   For each *parameter* of you function, you expect the user of your\n",
    "        function to pass an *argument*\n",
    "-   You can do work inside the function, then you can `return` a value back to the user\n",
    "\n"
   ]
  },
  {
   "cell_type": "code",
   "execution_count": 1,
   "metadata": {},
   "outputs": [],
   "source": [
    "def add_3_numbers(a, b, c):\n",
    "   return a+b+C\n",
    "\n",
    "d = add_3_numbers(1, 2, 3) # d will be set to 6"
   ]
  },
  {
   "cell_type": "markdown",
   "metadata": {},
   "source": [
    "## Functions (continued)\n",
    "\n"
   ]
  },
  {
   "cell_type": "markdown",
   "metadata": {},
   "source": [
    "-   Lets look a closer at the function `def`\n",
    "-   `def f():`\n",
    "    -   This defines a function of no parameters. You don't pass any arguments\n",
    "\n"
   ]
  },
  {
   "cell_type": "code",
   "execution_count": 1,
   "metadata": {},
   "outputs": [],
   "source": [
    "def f():\n",
    " return 1\n",
    "\n",
    "f() # 1"
   ]
  },
  {
   "cell_type": "markdown",
   "metadata": {},
   "source": [
    "-   `def f(a):` this defines a function of 1 parameters\n",
    "    -   When you pass an argument, whatever was passed gets *bound* to `a` inside the function\n",
    "\n"
   ]
  },
  {
   "cell_type": "code",
   "execution_count": 1,
   "metadata": {},
   "outputs": [],
   "source": [
    "def f(a):\n",
    "  return a+1 # I can use a inside the function"
   ]
  },
  {
   "cell_type": "markdown",
   "metadata": {},
   "source": [
    "## Functions, return\n",
    "\n"
   ]
  },
  {
   "cell_type": "markdown",
   "metadata": {},
   "source": [
    "-   `return` **immediately** *exits* the function, and returns the value\n",
    "    to the *caller*, the user of the function\n",
    "-   You can `return` anywhere inside the function\n",
    "    -   If you have special conditions, good to return early, then process\n",
    "        the data knowing that that condition can't hold\n",
    "-   The factorial function is defined *(n! = 1 &times; 2 &times;  3 \\ldots &times; n*)\n",
    "    -   Or: $0! = 1$, $n! = n \\times (n-1)!$, this is a *recursive*\n",
    "        definition, it defines the function in terms of itself, plus a\n",
    "        stopping case, check the stopping case first, then process the function:\n",
    "\n"
   ]
  },
  {
   "cell_type": "code",
   "execution_count": 1,
   "metadata": {},
   "outputs": [],
   "source": [
    "def factorial(n):\n",
    "    if n == 0: return 1\n",
    "    return n * factorial(n-1)\n",
    "\n",
    "factorial(5) # 120"
   ]
  },
  {
   "cell_type": "markdown",
   "metadata": {},
   "source": [
    "## Functions (continured)\n",
    "\n"
   ]
  },
  {
   "cell_type": "markdown",
   "metadata": {},
   "source": [
    "-   Function calls pass a *reference* to the parameter, that is, it takes a\n",
    "    *shallow* copy of the argument\n",
    "    -   That means, if you change integers in the function, outside the\n",
    "        function, at the *call site* they won't change, but *mutable*\n",
    "        objects, like lists or dictionaries *will* change\n",
    "\n"
   ]
  },
  {
   "cell_type": "code",
   "execution_count": 1,
   "metadata": {},
   "outputs": [],
   "source": [
    "a = 4\n",
    "def add_4_toi(i):\n",
    "  return 4+i\n",
    "\n",
    "add_4_toi(a) # We're ignoring the return value here\n",
    "a # a is still 4"
   ]
  },
  {
   "cell_type": "code",
   "execution_count": 1,
   "metadata": {},
   "outputs": [],
   "source": [
    "a = [1,2,3]\n",
    "def add_4_tol(l):\n",
    "  l.append(4)\n",
    "\n",
    "add_4_tol(a)  # inside the function, l /binds/ to the list a\n",
    "a # Now a is [1, 2, 3, 4]"
   ]
  },
  {
   "cell_type": "markdown",
   "metadata": {},
   "source": [
    "## Exercises from Last Week\n",
    "\n"
   ]
  },
  {
   "cell_type": "markdown",
   "metadata": {},
   "source": [
    "Fix this greeting function, it should say Hello to the user, given\n",
    "his/her name, but its not working\n",
    "\n"
   ]
  },
  {
   "cell_type": "code",
   "execution_count": 3,
   "metadata": {},
   "outputs": [
    {
     "name": "stdout",
     "output_type": "stream",
     "text": [
      "Hello, Ian\n"
     ]
    }
   ],
   "source": [
    "def greet(name):\n",
    "    return \"Hello, \"+name\n",
    "\n",
    "print(greet(\"Ian\"))\n",
    "# These shouldn't give an error after you write your function\n",
    "assert(greet(\"Frodo\") == \"Hello, Frodo\")\n",
    "assert(greet(\"Sam\") == \"Hello, Sam\")\n",
    "assert(greet(\"Gandalf\") == \"Hello, Gandalf\")"
   ]
  },
  {
   "cell_type": "markdown",
   "metadata": {},
   "source": [
    "Write `greet` again, but this time, if Frodo asks to be greeted, you\n",
    "should print a special message\n",
    "\n"
   ]
  },
  {
   "cell_type": "code",
   "execution_count": 4,
   "metadata": {},
   "outputs": [],
   "source": [
    "def greet(name):\n",
    "    if name == \"Frodo\":\n",
    "        return \"Take the ring, Frodo\"\n",
    "    return \"Hello, \"+name\n",
    "\n",
    "# These shouldn't give an error after you write your function\n",
    "assert(greet(\"Frodo\") == \"Take the ring, Frodo\")\n",
    "assert(greet(\"Sam\") == \"Hello, Sam\")\n",
    "assert(greet(\"Gandalf\") == \"Hello, Gandalf\")"
   ]
  },
  {
   "cell_type": "markdown",
   "metadata": {},
   "source": [
    "Write a function `is_odd` that returns `True` if the input is odd or\n",
    "`False` if its even\n",
    "\n"
   ]
  },
  {
   "cell_type": "code",
   "execution_count": 6,
   "metadata": {},
   "outputs": [],
   "source": [
    "def is_odd(n):\n",
    "    return n%2!=0\n",
    "\n",
    "assert(is_odd(3) == True)\n",
    "assert(is_odd(2) == False)\n",
    "assert(is_odd(1327) == True)"
   ]
  },
  {
   "cell_type": "markdown",
   "metadata": {},
   "source": [
    "Write a function `mysum` that sums numbers when passed in a list\n",
    "[there is a built-in sum function, but dont use that]\n",
    "\n"
   ]
  },
  {
   "cell_type": "code",
   "execution_count": 9,
   "metadata": {},
   "outputs": [],
   "source": [
    "def mysum(l):\n",
    "    current_total = 0\n",
    "    for element in l:\n",
    "        current_total += element\n",
    "    return current_total\n",
    "\n",
    "assert(mysum([1,2,3]) == 6)\n",
    "assert(mysum([1,2]) == 3)\n",
    "assert(mysum([]) == 0)"
   ]
  },
  {
   "cell_type": "markdown",
   "metadata": {},
   "source": [
    "Write a function `every_other_element` that returns the first, third, fifth, etc. elements of a list\n",
    "\n"
   ]
  },
  {
   "cell_type": "code",
   "execution_count": 13,
   "metadata": {},
   "outputs": [],
   "source": [
    "def every_other_element(l):\n",
    "    new_l = []\n",
    "    for i in range(len(l)):\n",
    "        if not is_odd(i):\n",
    "            new_l.append(l[i])\n",
    "    return new_l\n",
    "\n",
    "assert(every_other_element([1, 2, 3, 4, 5]) == [1, 3, 5])\n",
    "assert(every_other_element([]) == [])\n",
    "assert(every_other_element([1]) == [1])"
   ]
  },
  {
   "cell_type": "markdown",
   "metadata": {},
   "source": [
    "The Fibonacci numbers are a sequence that goes 1, 1, 2, 3, 5, 8, 13,\n",
    "&#x2026; where the next number is the sum of the previous two (starting\n",
    "with 1, 1). Write a function that takes in n, and outputs the nth\n",
    "Fibonacci number (where fibonacci(1)==1, fibonacci(2)==1)\n",
    "\n"
   ]
  },
  {
   "cell_type": "code",
   "execution_count": 18,
   "metadata": {},
   "outputs": [],
   "source": [
    "def fibonacci(i):\n",
    "    if i == 1 or i == 2:\n",
    "        return 1\n",
    "    return fibonacci(i-1) + fibonacci(i-2)\n",
    "\n",
    "def fibonacci(i):\n",
    "    fib_list = [0, 1, 1]\n",
    "    while len(fib_list) <= i:\n",
    "        crnt = len(fib_list)\n",
    "        fib_list.append(fib_list[crnt-1] +\n",
    "                        fib_list[crnt-2])\n",
    "    return fib_list[i]\n",
    "\n",
    "assert(fibonacci(1) == 1)\n",
    "assert(fibonacci(2) == 1)\n",
    "assert(fibonacci(5) == 5)\n",
    "assert(fibonacci(7) == 13)\n",
    "assert(fibonacci(20) == 6765)\n",
    "assert(fibonacci(50) == 12586269025)"
   ]
  },
  {
   "cell_type": "markdown",
   "metadata": {},
   "source": [
    "Write a function that takes two lists, and outputs True if they\n",
    "`overlap`, that is, if are there elements that appear in both lists\n",
    "\n"
   ]
  },
  {
   "cell_type": "code",
   "execution_count": 19,
   "metadata": {},
   "outputs": [],
   "source": [
    "def overlap(a, b):\n",
    "    for el_a in a:\n",
    "        for el_b in b:\n",
    "            if el_a == el_b:\n",
    "                return True\n",
    "    return False\n",
    "\n",
    "def overlap(a, b):\n",
    "    for el_a in a:\n",
    "        if el_a in b:\n",
    "            return True\n",
    "    return False\n",
    "\n",
    "assert(overlap([1], [1])==True)\n",
    "assert(overlap([1], [2])==False)\n",
    "assert(overlap([1], [2,3,4,5])==False)\n",
    "assert(overlap([9,7,2,1], [2,3,4,5])==True)\n",
    "assert(overlap([9,7,2,4], [2,3,4,5])==True)\n",
    "assert(overlap([9,7,22,44], [2,3,4,5])==False)"
   ]
  },
  {
   "cell_type": "markdown",
   "metadata": {},
   "source": [
    "There is a very useful function called `map` which takes a function\n",
    "and a list, and returns a list made by applying the function to each\n",
    "element of the list. Write `mymap` which duplicates this\n",
    "functionality. Don't use `map`, obviously.\n",
    "\n"
   ]
  },
  {
   "cell_type": "code",
   "execution_count": 20,
   "metadata": {},
   "outputs": [],
   "source": [
    "def mymap(fn, lst):\n",
    "    result = []\n",
    "    for item in lst:\n",
    "        current = fn(item)\n",
    "        result.append(current)\n",
    "    return result\n",
    "\n",
    "def mul_by_2(x):\n",
    "    return 2*x\n",
    "\n",
    "assert(mymap(mul_by_2, [1, 2, 3]) == [2, 4, 6]) # lambda is a way to make short functions of one line\n",
    "assert(mymap(lambda x: x*2, []) == [])\n",
    "assert(mymap(lambda x: x**2, [1, 2, 3]) == [1, 4, 9])\n",
    "assert(mymap(lambda x: x[0], [[1], [2,3], [3,4]]) == [1, 2, 3])"
   ]
  },
  {
   "cell_type": "markdown",
   "metadata": {},
   "source": [
    "## This week : Alice in Wonderland\n",
    "\n"
   ]
  },
  {
   "cell_type": "markdown",
   "metadata": {},
   "source": [
    "-   There's a text file `alice.txt` in the repo this week\n",
    "-   It contains the complete text of Alice in Wonderland\n",
    "-   As a python exercise and first effort to analyse some data, we'll\n",
    "    write some functions to process the text and develop some simple analyses\n",
    "-   E.g. we'll look at the number of different words used, the most and\n",
    "    least popular words in the text, and the average number of times a\n",
    "    separate word is used\n",
    "\n",
    "-   Lets start with some simple functions, you should test your\n",
    "    functions as you write them, as well as making sure the `assert`'s\n",
    "    don't give errors\n",
    "\n",
    "Write the function `average`, which takes a list of numbers, and finds\n",
    "the average of the list (sum of the numbers, divided by the amount of\n",
    "numbers in the list)\n",
    "\n"
   ]
  },
  {
   "cell_type": "code",
   "execution_count": 1,
   "metadata": {},
   "outputs": [],
   "source": [
    "def average(list):\n",
    "    total = 0\n",
    "    for element in list:\n",
    "        total += element\n",
    "    return total / len(list)\n",
    "    \n",
    "assert(average([1]) == 1.0)\n",
    "assert(average([1, 2, 3]) == 2.0)\n",
    "assert(average([1, 2, 3, 4, 5, 6]) == 21.0/6.0)\n",
    "assert(average([1, 1, 1, 1, 1, 1, 1, 1, 1, 1, 1, 1, 1, 1]) == 1)\n",
    "assert(abs(average([1.8, 1.8, 1.8, 1.8, 1.8, 1.8, 1.8]) - 1.8) < 0.00001)\n",
    "# Question: why is the last line not simply written as:\n",
    "# assert(average([1.8, 1.8, 1.8, 1.8, 1.8, 1.8, 1.8]) == 1.8)\n",
    "# ?"
   ]
  },
  {
   "cell_type": "markdown",
   "metadata": {},
   "source": [
    "We'll also have a dictionary that contains how many times a word is\n",
    "used in the text. That is, `worddict[word] =` word<sub>count</sub>=. Write a\n",
    "function `max_word`, which takes in such a dictionary and outputs the\n",
    "word that has the highest word count.\n",
    "\n",
    "There are a few ways to do this, however, if you want to loop over the\n",
    "dictionary, you can get both the key and value with a for loop: \n",
    "\n",
    "-   `for key, value in worddict.items():`\n",
    "\n"
   ]
  },
  {
   "cell_type": "code",
   "execution_count": 3,
   "metadata": {},
   "outputs": [
    {
     "name": "stdout",
     "output_type": "stream",
     "text": [
      "Key: a Value: 5\n",
      "Key: b Value: 2\n",
      "Key: c Value: 3\n"
     ]
    }
   ],
   "source": [
    "def max_word(worddict):\n",
    "    current_max_count = 0\n",
    "    current_best_word = \"\"\n",
    "    for key, value in worddict.items():\n",
    "        if value > current_max_count:\n",
    "            current_max_count = value\n",
    "            current_best_word = key\n",
    "    return current_best_word\n",
    "\n",
    "assert(max_word({\"a\" : 5}) == \"a\")\n",
    "assert(max_word({\"b\" : 3}) == \"b\")\n",
    "assert(max_word({\"a\" : 5, \"b\" : 3}) == \"a\")\n",
    "assert(max_word({\"c\" : 4, \"a\" : 5, \"b\" : 3}) == \"a\")\n",
    "\n",
    "d = {\"a\" : 5, \"b\" :2, \"c\" : 3}\n",
    "for k in d:\n",
    "    print(\"Key:\", k, \"Value:\", d[k])"
   ]
  },
  {
   "cell_type": "markdown",
   "metadata": {},
   "source": [
    "[Aside: What should we do if theres more than one word with the same\n",
    "number of counts, and is max?]\n",
    "\n",
    "To get out a wordlist, we'll need to first preprocess the data. In\n",
    "machine learning, often the hardest task is getting the data into a\n",
    "format suitable for analysis. Here, we want to study the distribution\n",
    "of word counts, but we have issues of English, like punctuation and\n",
    "capitalisation which could obscure our word counts. We should *clean*\n",
    "the data, to remove these superfluous elements.\n",
    "\n",
    "Write the function `line_to_wordlist(line)`, which takes a line of\n",
    "text, and then:\n",
    "\n",
    "-   removes the characters `,./[]*()!'\"-_?;:`, i.e. all punctuation characters\n",
    "    which we don't think of as part of words\n",
    "    -   One subtlety is that two dashes `--` can appear with no spaces\n",
    "        between the two words as in `then--she`, so we should change `--` to a\n",
    "        space\n",
    "-   splits the text into words\n",
    "-   The functions `\"\".split()` and `\"\".replace(from, to)` will be useful\n",
    "-   Type `?str.split` or `?str.replace` to get help on these functions\n",
    "    -   You could use a `for` loop to do the replacement of all the characters&#x2026;\n",
    "-   In order to avoid counting \"In\" and \"in\" differently, lets also make\n",
    "    all the letters lowercase, use `str.lower()`\n",
    "\n"
   ]
  },
  {
   "cell_type": "code",
   "execution_count": 4,
   "metadata": {},
   "outputs": [],
   "source": [
    "def line_to_wordlist(line):\n",
    "    line = line.replace(\"--\", \" \")\n",
    "    for c in \",./[]*()!'\\\"-_?;:\":\n",
    "        line = line.replace(c, \"\")\n",
    "    line = line.lower()\n",
    "    line = line.split()\n",
    "    # You'll need to continue replacing, then lower and split the list\n",
    "    return line\n",
    "\n",
    "assert(line_to_wordlist(\"a list of words\") == [\"a\", \"list\", \"of\", \"words\"])\n",
    "assert(line_to_wordlist(\"a list of words, with some punctuation.\") == [\"a\", \"list\", \"of\", \"words\", \"with\", \"some\", \"punctuation\"])\n",
    "assert(line_to_wordlist(\"A list of words. With some punctuation and Cases.\") == [\"a\", \"list\", \"of\", \"words\", \"with\", \"some\", \"punctuation\", \"and\", \"cases\"])\n",
    "assert(line_to_wordlist(\"a large, big list of words, with some punctuation.\") == [\"a\", \"large\", \"big\", \"list\", \"of\", \"words\", \"with\", \"some\", \"punctuation\"])\n",
    "assert(line_to_wordlist(\"a (large, big) list of words, with some punctuation.\") == [\"a\", \"large\", \"big\", \"list\", \"of\", \"words\", \"with\", \"some\", \"punctuation\"])\n",
    "assert(line_to_wordlist(\"a [large, big] list of words, with punctuation.\") == [\"a\", \"large\", \"big\", \"list\", \"of\", \"words\", \"with\", \"punctuation\"])\n",
    "assert(line_to_wordlist(\"a [large!, big!] list of words, with punctuation.\") == [\"a\", \"large\", \"big\", \"list\", \"of\", \"words\", \"with\", \"punctuation\"])\n"
   ]
  },
  {
   "cell_type": "markdown",
   "metadata": {},
   "source": [
    "Now, we can manipulate the lines of text a little, and also find the\n",
    "words with the most counts from a worddict, lets write a function\n",
    "which actually makes our worddict. `add_line_to_worddict(worddict, line)` \n",
    "should take an existing worddict (it could be the empty\n",
    "dictionary `{}`), and a line of text, and adds the count of the words\n",
    "to the word dictionary. You'll need to be careful of a few things:\n",
    "\n",
    "-   Start by using `line_to_wordlist` to get the words\n",
    "-   Then loop over and add the count to the dictionary\n",
    "-   What if the word doesn't exist in the dictionary? You can test with `in`: as in, `word in worddict`\n",
    "    -   You may also need `not`, which turns True to False and False to True\n",
    "-   At the end, return the worddict. Note though, that dictionaries are\n",
    "    *mutable* objects, that means the dictionary will be changed by the\n",
    "    function and this isn't strictly necessary. It also means the\n",
    "    original dictionary will be forever altered by the function.\n",
    "\n"
   ]
  },
  {
   "cell_type": "code",
   "execution_count": 6,
   "metadata": {},
   "outputs": [],
   "source": [
    "def add_line_to_worddict(worddict, line):\n",
    "    words = line_to_wordlist(line)\n",
    "    for word in words:\n",
    "        if word in worddict:\n",
    "            worddict[word] = worddict[word]+1\n",
    "        else:\n",
    "            worddict[word] = 1\n",
    "    return worddict\n",
    "\n",
    "assert(add_line_to_worddict({\"a\":1, \"word\":1, \"list\":1}, \"a word list\") == {\"a\" : 2, \"word\" : 2, \"list\" : 2})\n",
    "assert(add_line_to_worddict({}, \"a word list\") == {\"a\" : 1, \"word\" : 1, \"list\" : 1})\n",
    "assert(add_line_to_worddict({\"a\":1}, \"a word list\") == {\"a\" : 2, \"word\" : 1, \"list\" : 1})\n",
    "assert(add_line_to_worddict({\"a\":1, \"it\":1}, \"a word list, it is.\") == {\"a\" : 2, \"word\" : 1, \"list\" : 1, \"it\":2, \"is\":1})"
   ]
  },
  {
   "cell_type": "markdown",
   "metadata": {},
   "source": [
    "Using `average`, write a function `average_counts` which takes a\n",
    "worddict and returns the average of the word count. You will probably\n",
    "find the function `worddict.values()` useful.\n",
    "\n"
   ]
  },
  {
   "cell_type": "code",
   "execution_count": 7,
   "metadata": {},
   "outputs": [],
   "source": [
    "def average_counts(worddict):\n",
    "    return average(worddict.values())\n",
    "\n",
    "assert(average_counts({\"a\" : 1, \"word\" : 1, \"list\" : 1}) == 1)\n",
    "assert(average_counts({\"a\" : 2, \"word\" : 3, \"list\" : 4}) == 3)\n",
    "assert(average_counts({\"a\" : 2, \"word\" : 1, \"list\" : 1, \"it\":2, \"is\":1, \"yes\":2}) == 1.5)"
   ]
  },
  {
   "cell_type": "markdown",
   "metadata": {},
   "source": [
    "We're almost there. Now, we just need to open our `alice.txt` file and\n",
    "pass it through our functions. We can use `open` to open a file, then\n",
    "`file.readlines()` will give us the data, one line at a time. We can\n",
    "do it like so (the \"wget\" line is to retrieve the data from my github,\n",
    "colab doesn't import all the files in the repository, just the\n",
    "notebook):\n",
    "\n"
   ]
  },
  {
   "cell_type": "code",
   "execution_count": 20,
   "metadata": {},
   "outputs": [
    {
     "data": {
      "text/plain": [
       "(6.372549019607843, 'the', 634)"
      ]
     },
     "execution_count": 20,
     "metadata": {},
     "output_type": "execute_result"
    }
   ],
   "source": [
    "#!wget https://raw.githubusercontent.com/watson-ij/2019-smart-city-ml-2/master/alice.txt\n",
    "txt = open('alice.txt')\n",
    "worddict = {}\n",
    "for line in txt.readlines():\n",
    "    add_line_to_worddict(worddict, line)\n",
    "\n",
    "len(worddict)\n",
    "#print(list(open('alice.txt').readlines())[:20])\n",
    "average_counts(worddict), max_word(worddict), worddict['the']"
   ]
  },
  {
   "cell_type": "markdown",
   "metadata": {},
   "source": [
    "I got 1530 words from this. Now pass this through the function you\n",
    "wrote above. What is the average word count? What is the word with the\n",
    "most counts? How many counts does it have? How many words have a count\n",
    "of 1 (they are only used once in the text)? What other issues should\n",
    "we take into account if we wanted to do this exercise properly?\n",
    "(i.e. what data cleaning issues still remain).\n",
    "\n",
    "For bonus points, what is the word with the second most counts? (you\n",
    "could use `sort` to find this out. Read `help(sort)` to find out how\n",
    "to sort a more difficult list, and you might need\n",
    "`list(worddict.items())` to turn the dictionary into a list)\n",
    "\n"
   ]
  },
  {
   "cell_type": "code",
   "execution_count": 24,
   "metadata": {},
   "outputs": [
    {
     "data": {
      "text/plain": [
       "712"
      ]
     },
     "execution_count": 24,
     "metadata": {},
     "output_type": "execute_result"
    }
   ],
   "source": [
    "one_words = []\n",
    "for word, count in worddict.items():\n",
    "    if count == 1:\n",
    "        one_words.append(word)\n",
    "len(one_words) #, one_words[:10]"
   ]
  },
  {
   "cell_type": "code",
   "execution_count": 32,
   "metadata": {},
   "outputs": [
    {
     "data": {
      "text/plain": [
       "[('the', 634),\n",
       " ('and', 338),\n",
       " ('a', 277),\n",
       " ('to', 249),\n",
       " ('she', 239),\n",
       " ('of', 200),\n",
       " ('it', 171),\n",
       " ('was', 167),\n",
       " ('in', 163),\n",
       " ('alice', 162)]"
      ]
     },
     "execution_count": 32,
     "metadata": {},
     "output_type": "execute_result"
    }
   ],
   "source": [
    "items = list(worddict.items())\n",
    "def item_key(item):\n",
    "    return item[1]\n",
    "items.sort(key=item_key, reverse=True)\n",
    "items[:10]"
   ]
  },
  {
   "cell_type": "code",
   "execution_count": 29,
   "metadata": {},
   "outputs": [],
   "source": [
    "?list.sort"
   ]
  },
  {
   "cell_type": "code",
   "execution_count": null,
   "metadata": {},
   "outputs": [],
   "source": []
  }
 ],
 "metadata": {
  "kernelspec": {
   "display_name": "Python 3",
   "language": "python",
   "name": "python3"
  },
  "language_info": {
   "codemirror_mode": {
    "name": "ipython",
    "version": 3
   },
   "file_extension": ".py",
   "mimetype": "text/x-python",
   "name": "python",
   "nbconvert_exporter": "python",
   "pygments_lexer": "ipython3",
   "version": "3.7.4"
  },
  "org": null
 },
 "nbformat": 4,
 "nbformat_minor": 1
}
